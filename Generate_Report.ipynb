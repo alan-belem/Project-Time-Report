{
 "cells": [
  {
   "cell_type": "code",
   "execution_count": 102,
   "id": "f9e596af-803f-4bad-a287-9253473f4be3",
   "metadata": {
    "tags": []
   },
   "outputs": [
    {
     "data": {
      "text/plain": [
       "True"
      ]
     },
     "execution_count": 102,
     "metadata": {},
     "output_type": "execute_result"
    }
   ],
   "source": [
    "from tkinter import Tk, Label, Entry, Button, Text\n",
    "from reportlab.pdfgen import canvas\n",
    "from reportlab.platypus import SimpleDocTemplate, Table, TableStyle, Paragraph\n",
    "from reportlab.lib import colors\n",
    "from tkinter.ttk import *\n",
    "import os\n",
    "import webbrowser\n",
    "\n",
    "def get_sum():\n",
    "    total = 0\n",
    "    for task, time in tasks.items():\n",
    "        total += time\n",
    "        \n",
    "    return total\n",
    "\n",
    "def get_costs(n):\n",
    "    rates = 50\n",
    "    rates =  int(rates)\n",
    "    minute_rate = rates/60\n",
    "    \n",
    "    cost = minute_rate * n\n",
    "    \n",
    "    return cost\n",
    "\n",
    "# Defining colors\n",
    "custom_color = colors.Color(12/256, 102/256, 190/256)\n",
    "    \n",
    "tasks = {'Task 1':50,'Task 2': 60, 'Task 3':90}\n",
    "\n",
    "# Define the header text with formatting\n",
    "header_text = [[\"Task Report\"]]  # Bold text using HTML tags (not recommended)\n",
    "header = Table(header_text,colWidths=[500],rowHeights=[50])  # Adjust font size and alignment\n",
    "header.setStyle(TableStyle(\n",
    "    [\n",
    "    ('FONT', (0, 0), (0, 0), 'Helvetica-Bold'),  # Header font - Bold\n",
    "    ('ALIGN', (0, 0), (0, 0), 'LEFT'),  # Header alignment - Center\n",
    "    ('BACKGROUND', (0, 0), (0, 0), custom_color),\n",
    "    ('TEXTCOLOR', (0, 0), (0, 0), colors.white),\n",
    "    ('FONTSIZE', (0, 0), (0, 0), 16),\n",
    "    ('BOTTOMPADDING', (0, 0), (0, 0), 20)\n",
    "    ]\n",
    "))\n",
    "\n",
    "# Define the data and table headers\n",
    "data = [[\"Task\", \"Duration (mins)\"]]\n",
    "data.extend([list(item) for item in tasks.items()])  # Add dictionary key-value pairs as rows\n",
    "\n",
    "\n",
    "# Define the table style\n",
    "styles = [\n",
    "    ('FONT', (0, 0), (-1, 0), 'Helvetica-Bold'),  # Header font - Bold\n",
    "    ('ALIGN', (0, 0), (-1, 0), 'CENTER'),  # Header alignment - Center\n",
    "    ('ALIGN', (0, 1), (0, -1), 'LEFT'),  # Data alignment - Left\n",
    "    ('ALIGN', (1, 0), (1, -1), 'CENTER'),  # Data alignment - Center\n",
    "#    ('INNERGRID', (0, 0), (-1, -1), 0.25, colors.black),  # Grid lines\n",
    "#    ('BOX', (0, 0), (-1, -1), 0.25, colors.black),  # Table border\n",
    "    ('BACKGROUND', (0, 0), (1, 0), custom_color), # Header Background\n",
    "    ('TEXTCOLOR', (0, 0), (1, 0), colors.white)\n",
    "]\n",
    "\n",
    "table = Table(data, colWidths=[400, 100])  # Set column widths\n",
    "table.setStyle(TableStyle(styles))\n",
    "\n",
    "# Define the PDF document and build it\n",
    "pdf_file = \"tasks_report.pdf\"\n",
    "doc = SimpleDocTemplate(\n",
    "    pdf_file, pagesize=(600, 900)  # Adjust page size as needed\n",
    ")\n",
    "story = [header, table]\n",
    "doc.build(story)\n",
    "\n",
    "webbrowser.open(\"tasks_report.pdf\")"
   ]
  },
  {
   "cell_type": "code",
   "execution_count": null,
   "id": "d66d72d8-5ff0-42e3-9128-df65627e0c36",
   "metadata": {},
   "outputs": [],
   "source": []
  }
 ],
 "metadata": {
  "kernelspec": {
   "display_name": "Python 3 (ipykernel)",
   "language": "python",
   "name": "python3"
  },
  "language_info": {
   "codemirror_mode": {
    "name": "ipython",
    "version": 3
   },
   "file_extension": ".py",
   "mimetype": "text/x-python",
   "name": "python",
   "nbconvert_exporter": "python",
   "pygments_lexer": "ipython3",
   "version": "3.11.5"
  }
 },
 "nbformat": 4,
 "nbformat_minor": 5
}
